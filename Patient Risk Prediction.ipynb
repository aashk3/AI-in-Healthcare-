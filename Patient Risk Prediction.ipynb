{
  "cells": [
    {
      "cell_type": "markdown",
      "metadata": {
        "id": "view-in-github",
        "colab_type": "text"
      },
      "source": [
        "<a href=\"https://colab.research.google.com/github/aashk3/AI-in-Healthcare-/blob/main/Patient%20Risk%20Prediction.ipynb\" target=\"_parent\"><img src=\"https://colab.research.google.com/assets/colab-badge.svg\" alt=\"Open In Colab\"/></a>"
      ]
    },
    {
      "cell_type": "markdown",
      "source": [
        "#  AI-Based Health Risk Prediction Model from Patient Data\n",
        "\n",
        "This project uses synthetic patient data to train a machine learning model that predicts a patient's health risk category (Low, Medium, High). It's aimed at demonstrating how AI can be used to assist in preventive healthcare screening using features like age, blood pressure, cholesterol, BMI, smoking habits, and family history of diabetes.\n",
        "\n",
        "---\n",
        "\n",
        "## 💡 Technologies Used\n",
        "- **Python**\n",
        "- **Pandas / NumPy**\n",
        "- **Scikit-learn**\n",
        "- **Random Forest Classifier**\n",
        "- **Seaborn / Matplotlib**"
      ],
      "metadata": {
        "id": "MWnjpzzsJJ9j"
      }
    },
    {
      "cell_type": "code",
      "source": [
        "# Step 1: Import essential libraries\n",
        "import pandas as pd\n",
        "import numpy as np\n",
        "import seaborn as sns\n",
        "import matplotlib.pyplot as plt\n",
        "\n",
        "# Machine Learning\n",
        "from sklearn.model_selection import train_test_split\n",
        "from sklearn.ensemble import RandomForestClassifier\n",
        "from sklearn.metrics import classification_report, confusion_matrix, accuracy_score"
      ],
      "metadata": {
        "id": "-vFdGOA5-xUu"
      },
      "execution_count": 2,
      "outputs": []
    },
    {
      "cell_type": "code",
      "source": [
        "import pandas as pd\n",
        "import numpy as np\n",
        "\n",
        "# --- 1. Generate a Sample Patient Dataset ---\n",
        "# This dataset simulates patient information relevant for a basic risk assessment.\n",
        "# It's generated programmatically, so no external upload is needed.\n",
        "\n",
        "num_patients = 100 # Number of sample patients\n",
        "\n",
        "# Generate synthetic data for various features\n",
        "np.random.seed(42) # for reproducibility\n",
        "\n",
        "patient_ids = [f'P{i+1:03d}' for i in range(num_patients)]\n",
        "ages = np.random.randint(25, 75, num_patients)\n",
        "genders = np.random.choice(['Male', 'Female'], num_patients)\n",
        "systolic_bp = np.random.randint(100, 180, num_patients)\n",
        "diastolic_bp = np.random.randint(60, 110, num_patients)\n",
        "cholesterol = np.random.randint(150, 300, num_patients)\n",
        "smoking_status = np.random.choice(['Yes', 'No'], num_patients, p=[0.3, 0.7])\n",
        "family_history_diabetes = np.random.choice(['Yes', 'No'], num_patients, p=[0.4, 0.6])\n",
        "height_cm = np.random.uniform(150, 190, num_patients)\n",
        "weight_kg = np.random.uniform(50, 120, num_patients)\n",
        "bmi = weight_kg / ((height_cm / 100)**2) # Calculate BMI\n",
        "\n",
        "# Simulate a 'RiskScore' and 'Outcome' based on some features (simplified for demonstration)\n",
        "# Higher age, BP, cholesterol, smoking, and family history increase risk\n",
        "risk_score = (\n",
        "    ages * 0.5 +\n",
        "    systolic_bp * 0.1 +\n",
        "    diastolic_bp * 0.15 +\n",
        "    cholesterol * 0.2 +\n",
        "    (smoking_status == 'Yes') * 20 +\n",
        "    (family_history_diabetes == 'Yes') * 15 +\n",
        "    bmi * 0.5\n",
        ")\n",
        "risk_score = np.round(risk_score / risk_score.max() * 100).astype(int) # Scale to 0-100\n",
        "\n",
        "outcomes = []\n",
        "for score in risk_score:\n",
        "    if score < 40:\n",
        "        outcomes.append('Low Risk')\n",
        "    elif 40 <= score < 70:\n",
        "        outcomes.append('Medium Risk')\n",
        "    else:\n",
        "        outcomes.append('High Risk')\n",
        "\n",
        "# Create a Pandas DataFrame\n",
        "patient_data = pd.DataFrame({\n",
        "    'PatientID': patient_ids,\n",
        "    'Age': ages,\n",
        "    'Gender': genders,\n",
        "    'SystolicBP': systolic_bp,\n",
        "    'DiastolicBP': diastolic_bp,\n",
        "    'Cholesterol': cholesterol,\n",
        "    'SmokingStatus': smoking_status,\n",
        "    'FamilyHistoryDiabetes': family_history_diabetes,\n",
        "    'BMI': np.round(bmi, 2),\n",
        "    'RiskScore': risk_score,\n",
        "    'Outcome': outcomes\n",
        "})\n",
        "\n",
        "# Display the first few rows of the generated dataset\n",
        "print(\"--- Generated Sample Patient Data (First 5 Rows) ---\")\n",
        "print(patient_data.head())\n",
        "print(\"\\n--- Dataset Info ---\")\n",
        "patient_data.info()\n",
        "\n",
        "# --- 2. Save the DataFrame to a CSV file in Colab's temporary storage ---\n",
        "# This saves the data to a file named 'patient_data.csv' in the current Colab session's\n",
        "# file system. This file will be accessible for loading later in the same session.\n",
        "file_path = '/content/patient_data.csv' # Standard temporary path in Colab\n",
        "patient_data.to_csv(file_path, index=False) # index=False prevents writing DataFrame index as a column\n",
        "print(f\"\\n--- Dataset saved to: {file_path} ---\")\n",
        "\n",
        "# --- 3. Load the Dataset from the CSV file ---\n",
        "# This simulates loading the data as if it were an external file already present.\n",
        "# You would use this part of the code in your subsequent Colab notebooks or sections\n",
        "# to load the data for your risk assessment model.\n",
        "loaded_data = pd.read_csv(file_path)\n",
        "\n",
        "print(\"\\n--- Loaded Patient Data (First 5 Rows) ---\")\n",
        "print(loaded_data.head())\n",
        "print(\"\\n--- Loaded Dataset Info ---\")\n",
        "loaded_data.info()\n",
        "\n",
        "# You can now use 'loaded_data' DataFrame for your risk assessment model!\n",
        "# For example, to check columns:\n",
        "# print(loaded_data.columns)\n",
        "# To get descriptive statistics:\n",
        "# print(loaded_data.describe())\n"
      ],
      "metadata": {
        "colab": {
          "base_uri": "https://localhost:8080/"
        },
        "id": "qxpjzac7Ah_k",
        "outputId": "a7e28155-4b67-43c7-df8a-de91c76453e5"
      },
      "execution_count": 8,
      "outputs": [
        {
          "output_type": "stream",
          "name": "stdout",
          "text": [
            "--- Generated Sample Patient Data (First 5 Rows) ---\n",
            "  PatientID  Age  Gender  SystolicBP  DiastolicBP  Cholesterol SmokingStatus  \\\n",
            "0      P001   63    Male         161          105          206           Yes   \n",
            "1      P002   53  Female         100           77          185            No   \n",
            "2      P003   39    Male         126           61          169           Yes   \n",
            "3      P004   67  Female         161           94          214            No   \n",
            "4      P005   32  Female         176           75          157            No   \n",
            "\n",
            "  FamilyHistoryDiabetes    BMI  RiskScore      Outcome  \n",
            "0                   Yes  23.42         94    High Risk  \n",
            "1                    No  21.35         60  Medium Risk  \n",
            "2                   Yes  28.95         77    High Risk  \n",
            "3                    No  33.01         77    High Risk  \n",
            "4                   Yes  29.32         66  Medium Risk  \n",
            "\n",
            "--- Dataset Info ---\n",
            "<class 'pandas.core.frame.DataFrame'>\n",
            "RangeIndex: 100 entries, 0 to 99\n",
            "Data columns (total 11 columns):\n",
            " #   Column                 Non-Null Count  Dtype  \n",
            "---  ------                 --------------  -----  \n",
            " 0   PatientID              100 non-null    object \n",
            " 1   Age                    100 non-null    int64  \n",
            " 2   Gender                 100 non-null    object \n",
            " 3   SystolicBP             100 non-null    int64  \n",
            " 4   DiastolicBP            100 non-null    int64  \n",
            " 5   Cholesterol            100 non-null    int64  \n",
            " 6   SmokingStatus          100 non-null    object \n",
            " 7   FamilyHistoryDiabetes  100 non-null    object \n",
            " 8   BMI                    100 non-null    float64\n",
            " 9   RiskScore              100 non-null    int64  \n",
            " 10  Outcome                100 non-null    object \n",
            "dtypes: float64(1), int64(5), object(5)\n",
            "memory usage: 8.7+ KB\n",
            "\n",
            "--- Dataset saved to: /content/patient_data.csv ---\n",
            "\n",
            "--- Loaded Patient Data (First 5 Rows) ---\n",
            "  PatientID  Age  Gender  SystolicBP  DiastolicBP  Cholesterol SmokingStatus  \\\n",
            "0      P001   63    Male         161          105          206           Yes   \n",
            "1      P002   53  Female         100           77          185            No   \n",
            "2      P003   39    Male         126           61          169           Yes   \n",
            "3      P004   67  Female         161           94          214            No   \n",
            "4      P005   32  Female         176           75          157            No   \n",
            "\n",
            "  FamilyHistoryDiabetes    BMI  RiskScore      Outcome  \n",
            "0                   Yes  23.42         94    High Risk  \n",
            "1                    No  21.35         60  Medium Risk  \n",
            "2                   Yes  28.95         77    High Risk  \n",
            "3                    No  33.01         77    High Risk  \n",
            "4                   Yes  29.32         66  Medium Risk  \n",
            "\n",
            "--- Loaded Dataset Info ---\n",
            "<class 'pandas.core.frame.DataFrame'>\n",
            "RangeIndex: 100 entries, 0 to 99\n",
            "Data columns (total 11 columns):\n",
            " #   Column                 Non-Null Count  Dtype  \n",
            "---  ------                 --------------  -----  \n",
            " 0   PatientID              100 non-null    object \n",
            " 1   Age                    100 non-null    int64  \n",
            " 2   Gender                 100 non-null    object \n",
            " 3   SystolicBP             100 non-null    int64  \n",
            " 4   DiastolicBP            100 non-null    int64  \n",
            " 5   Cholesterol            100 non-null    int64  \n",
            " 6   SmokingStatus          100 non-null    object \n",
            " 7   FamilyHistoryDiabetes  100 non-null    object \n",
            " 8   BMI                    100 non-null    float64\n",
            " 9   RiskScore              100 non-null    int64  \n",
            " 10  Outcome                100 non-null    object \n",
            "dtypes: float64(1), int64(5), object(5)\n",
            "memory usage: 8.7+ KB\n"
          ]
        }
      ]
    },
    {
      "cell_type": "code",
      "source": [
        "from sklearn.model_selection import train_test_split\n",
        "from sklearn.preprocessing import LabelEncoder\n",
        "\n",
        "# Copy data to avoid modifying the original\n",
        "data = loaded_data.copy()\n",
        "\n",
        "# Encode categorical columns\n",
        "label_encoders = {}\n",
        "categorical_cols = ['Gender', 'SmokingStatus', 'FamilyHistoryDiabetes']\n",
        "\n",
        "for col in categorical_cols:\n",
        "    le = LabelEncoder()\n",
        "    data[col] = le.fit_transform(data[col])\n",
        "    label_encoders[col] = le\n",
        "\n",
        "# Also encode the 'Outcome' (Low, Medium, High) for model training\n",
        "le_outcome = LabelEncoder()\n",
        "data['OutcomeEncoded'] = le_outcome.fit_transform(data['Outcome'])\n",
        "\n",
        "# Features and target\n",
        "X = data[['Age', 'Gender', 'SystolicBP', 'DiastolicBP', 'Cholesterol',\n",
        "          'SmokingStatus', 'FamilyHistoryDiabetes', 'BMI']]\n",
        "y = data['OutcomeEncoded']\n",
        "\n",
        "# Split into training and test datasets\n",
        "X_train, X_test, y_train, y_test = train_test_split(X, y, test_size=0.2, random_state=42)\n",
        "\n",
        "print(\"--- Data Split Complete ---\")\n",
        "print(f\"Training Samples: {X_train.shape[0]}\")\n",
        "print(f\"Testing Samples: {X_test.shape[0]}\")"
      ],
      "metadata": {
        "colab": {
          "base_uri": "https://localhost:8080/"
        },
        "id": "mrtxd-1LHknC",
        "outputId": "f7998bed-7e82-4f4e-9958-e4ea56177472"
      },
      "execution_count": 9,
      "outputs": [
        {
          "output_type": "stream",
          "name": "stdout",
          "text": [
            "--- Data Split Complete ---\n",
            "Training Samples: 80\n",
            "Testing Samples: 20\n"
          ]
        }
      ]
    },
    {
      "cell_type": "code",
      "source": [
        "from sklearn.ensemble import RandomForestClassifier\n",
        "from sklearn.metrics import accuracy_score, classification_report, confusion_matrix\n",
        "\n",
        "# Train the model\n",
        "model = RandomForestClassifier(n_estimators=100, random_state=42)\n",
        "model.fit(X_train, y_train)\n",
        "\n",
        "# Predict\n",
        "y_pred = model.predict(X_test)\n",
        "\n",
        "# Evaluate\n",
        "accuracy = accuracy_score(y_test, y_pred)\n",
        "print(f\"\\n--- Model Accuracy: {accuracy * 100:.2f}% ---\")\n",
        "print(\"\\n--- Classification Report ---\")\n",
        "print(classification_report(y_test, y_pred, target_names=le_outcome.classes_))\n",
        "\n",
        "# Optional: Confusion Matrix\n",
        "import seaborn as sns\n",
        "import matplotlib.pyplot as plt\n",
        "\n",
        "conf_matrix = confusion_matrix(y_test, y_pred)\n",
        "sns.heatmap(conf_matrix, annot=True, fmt='d', xticklabels=le_outcome.classes_, yticklabels=le_outcome.classes_)\n",
        "plt.xlabel('Predicted')\n",
        "plt.ylabel('Actual')\n",
        "plt.title('Confusion Matrix')\n",
        "plt.show()"
      ],
      "metadata": {
        "colab": {
          "base_uri": "https://localhost:8080/",
          "height": 698
        },
        "id": "we6WyWRWHtL3",
        "outputId": "d62afbbb-12a1-4680-b1ea-79d85e6c52ea"
      },
      "execution_count": 10,
      "outputs": [
        {
          "output_type": "stream",
          "name": "stdout",
          "text": [
            "\n",
            "--- Model Accuracy: 80.00% ---\n",
            "\n",
            "--- Classification Report ---\n",
            "              precision    recall  f1-score   support\n",
            "\n",
            "   High Risk       0.78      1.00      0.88        14\n",
            " Medium Risk       1.00      0.33      0.50         6\n",
            "\n",
            "    accuracy                           0.80        20\n",
            "   macro avg       0.89      0.67      0.69        20\n",
            "weighted avg       0.84      0.80      0.76        20\n",
            "\n"
          ]
        },
        {
          "output_type": "display_data",
          "data": {
            "text/plain": [
              "<Figure size 640x480 with 2 Axes>"
            ],
            "image/png": "[encoded data removed]"
          },
          "metadata": {}
        }
      ]
    },
    {
      "cell_type": "code",
      "source": [
        "importances = model.feature_importances_\n",
        "feature_names = X.columns\n",
        "feature_importance_df = pd.DataFrame({'Feature': feature_names, 'Importance': importances})\n",
        "feature_importance_df = feature_importance_df.sort_values(by='Importance', ascending=False)\n",
        "\n",
        "print(\"\\n--- Feature Importance ---\")\n",
        "print(feature_importance_df)\n",
        "\n",
        "# Visualize\n",
        "sns.barplot(x='Importance', y='Feature', data=feature_importance_df)\n",
        "plt.title('Feature Importance for Risk Prediction')\n",
        "plt.show()"
      ],
      "metadata": {
        "colab": {
          "base_uri": "https://localhost:8080/",
          "height": 663
        },
        "id": "dslKbMzWHwQi",
        "outputId": "ef582bd4-0d3c-4985-a54c-6f20140b3fa9"
      },
      "execution_count": 11,
      "outputs": [
        {
          "output_type": "stream",
          "name": "stdout",
          "text": [
            "\n",
            "--- Feature Importance ---\n",
            "                 Feature  Importance\n",
            "4            Cholesterol    0.219831\n",
            "0                    Age    0.194540\n",
            "2             SystolicBP    0.175510\n",
            "3            DiastolicBP    0.138935\n",
            "7                    BMI    0.120568\n",
            "5          SmokingStatus    0.064330\n",
            "6  FamilyHistoryDiabetes    0.058488\n",
            "1                 Gender    0.027797\n"
          ]
        },
        {
          "output_type": "display_data",
          "data": {
            "text/plain": [
              "<Figure size 640x480 with 1 Axes>"
            ],
            "image/png": "[encoded data removed]"
          },
          "metadata": {}
        }
      ]
    }
  ],
  "metadata": {
    "colab": {
      "name": "Welcome To Colab",
      "provenance": [],
      "include_colab_link": true
    },
    "kernelspec": {
      "display_name": "Python 3",
      "name": "python3"
    }
  },
  "nbformat": 4,
  "nbformat_minor": 0
}